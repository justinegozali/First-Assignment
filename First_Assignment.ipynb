{
  "nbformat": 4,
  "nbformat_minor": 0,
  "metadata": {
    "colab": {
      "provenance": []
    },
    "kernelspec": {
      "name": "python3",
      "display_name": "Python 3"
    },
    "language_info": {
      "name": "python"
    }
  },
  "cells": [
    {
      "cell_type": "code",
      "execution_count": 5,
      "metadata": {
        "colab": {
          "base_uri": "https://localhost:8080/"
        },
        "id": "R4jttdvjhyyK",
        "outputId": "c65e4c1c-b837-40e5-c75d-891d2567479c"
      },
      "outputs": [
        {
          "output_type": "stream",
          "name": "stdout",
          "text": [
            "saya sedang makan nasi\n",
            "nasi makan sedang saya\n"
          ]
        }
      ],
      "source": [
        "inputString = input()\n",
        "\n",
        "s = inputString.split()[::-1]\n",
        "l = []\n",
        "\n",
        "for i in s:\n",
        "    l.append(i)\n",
        "\n",
        "print(\" \".join(l))"
      ]
    }
  ]
}